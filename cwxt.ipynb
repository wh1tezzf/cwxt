{
 "cells": [
  {
   "cell_type": "markdown",
   "id": "automatic-partition",
   "metadata": {},
   "source": [
    "Read in Excel sheet first"
   ]
  },
  {
   "cell_type": "code",
   "execution_count": 91,
   "id": "spoken-option",
   "metadata": {},
   "outputs": [
    {
     "name": "stdout",
     "output_type": "stream",
     "text": [
      "     序号   姓名       就诊时间 治疗方式（阿尔法、普诺瞳、欧几里德、新乐学、普通框架）     实际金额 接诊医生  分配金额1  验光师  \\\n",
      "0   1.0  杜荣华 2021-11-06                         阿尔法   9600.0  徐海玥  192.0  陆卫海   \n",
      "1   2.0   邱辰 2021-11-06                         普诺瞳   8000.0  徐海玥  160.0  陈可荣   \n",
      "2   3.0   叶文 2021-11-13                         普诺瞳   4165.0   徐蔚   83.3  陆卫海   \n",
      "3   6.0  韩逸恒 2021-11-20                         普诺瞳  10880.0   徐蔚  217.6  陈可荣   \n",
      "4   7.0  朱铭雷 2021-11-27                         阿尔法   4590.0   徐蔚   91.8  陆卫海   \n",
      "5   8.0  周昳芸 2021-11-27                        欧几里德   3740.0   徐蔚   74.8  陆卫海   \n",
      "6   9.0  张涵雅 2021-11-27                         阿尔法   9180.0   徐蔚  183.6  陆卫海   \n",
      "7   NaN  NaN        NaT                         NaN      NaN  NaN    0.0  NaN   \n",
      "8   NaN  NaN        NaT                         NaN      NaN  NaN    0.0  NaN   \n",
      "9   NaN  NaN        NaT                         NaN      NaN  NaN    0.0  NaN   \n",
      "10  NaN  NaN        NaT                         NaN      NaN  NaN    0.0  NaN   \n",
      "11  NaN  NaN        NaT                         NaN      NaN  NaN    0.0  NaN   \n",
      "12  NaN  NaN        NaT                         NaN      NaN  NaN    0.0  NaN   \n",
      "13  NaN  NaN        NaT                         NaN      NaN  NaN    0.0  NaN   \n",
      "14  NaN  NaN        NaT                         NaN      NaN  NaN    0.0  NaN   \n",
      "15  NaN  NaN        NaT                         NaN      NaN  NaN    0.0  NaN   \n",
      "16  NaN  NaN        NaT                         NaN      NaN  NaN    0.0  NaN   \n",
      "17  NaN  NaN        NaT                         NaN      NaN  NaN    0.0  NaN   \n",
      "18  NaN  NaN        NaT                         NaN      NaN  NaN    0.0  NaN   \n",
      "19  NaN  NaN        NaT                         NaN      NaN  NaN    0.0  NaN   \n",
      "20  NaN  NaN        NaT                         NaN      NaN  NaN    0.0  NaN   \n",
      "21  NaN  NaN        NaT                         NaN      NaN  NaN    0.0  NaN   \n",
      "22  NaN  NaN        NaT                         NaN      NaN  NaN    0.0  NaN   \n",
      "23  NaN  NaN        NaT                         NaN      NaN  NaN    0.0  NaN   \n",
      "24  NaN  NaN        NaT                         NaN      NaN  NaN    0.0  NaN   \n",
      "25  NaN  NaN        NaT                         NaN      NaN  NaN    0.0  NaN   \n",
      "26  NaN  NaN        NaT                         NaN      NaN  NaN    0.0  NaN   \n",
      "\n",
      "    分配金额2  来源1   分配金额3  来源2   分配金额4 成功与否  \n",
      "0   192.0  陆卫海   960.0  陆卫海  480.00   成功  \n",
      "1   160.0   徐蔚   800.0   徐蔚  400.00   成功  \n",
      "2    83.3   徐蔚   416.5   徐蔚  208.25   成功  \n",
      "3   217.6  李晶晶  1088.0   徐蔚  544.00   成功  \n",
      "4    91.8   徐蔚   459.0   徐蔚  229.50   成功  \n",
      "5    74.8   徐蔚   374.0   徐蔚  187.00   成功  \n",
      "6   183.6  施佳伟   918.0   徐蔚  459.00   成功  \n",
      "7     0.0  NaN     0.0  NaN    0.00  NaN  \n",
      "8     0.0  NaN     0.0  NaN    0.00  NaN  \n",
      "9     0.0  NaN     0.0  NaN    0.00  NaN  \n",
      "10    0.0  NaN     0.0  NaN    0.00  NaN  \n",
      "11    0.0  NaN     0.0  NaN    0.00  NaN  \n",
      "12    0.0  NaN     0.0  NaN    0.00  NaN  \n",
      "13    0.0  NaN     0.0  NaN    0.00  NaN  \n",
      "14    0.0  NaN     0.0  NaN    0.00  NaN  \n",
      "15    0.0  NaN     0.0  NaN    0.00  NaN  \n",
      "16    0.0  NaN     0.0  NaN    0.00  NaN  \n",
      "17    0.0  NaN     0.0  NaN    0.00  NaN  \n",
      "18    0.0  NaN     0.0  NaN    0.00  NaN  \n",
      "19    0.0  NaN     0.0  NaN    0.00  NaN  \n",
      "20    0.0  NaN     0.0  NaN    0.00  NaN  \n",
      "21    0.0  NaN     0.0  NaN    0.00  NaN  \n",
      "22    0.0  NaN     0.0  NaN    0.00  NaN  \n",
      "23    0.0  NaN     0.0  NaN    0.00  NaN  \n",
      "24    0.0  NaN     0.0  NaN    0.00  NaN  \n",
      "25    0.0  NaN     0.0  NaN    0.00  NaN  \n",
      "26    0.0  NaN     0.0  NaN    0.00  NaN  \n"
     ]
    }
   ],
   "source": [
    "import pandas as pd\n",
    "\n",
    "df = pd.read_excel('11月医生绩效考核.(配镜+检查+挂号）核对版.xlsx', sheet_name=None)\n",
    "\n",
    "print(df['配镜'])"
   ]
  },
  {
   "cell_type": "code",
   "execution_count": 92,
   "id": "dominican-childhood",
   "metadata": {},
   "outputs": [
    {
     "name": "stdout",
     "output_type": "stream",
     "text": [
      "      序号   姓名       就诊时间          就诊病情   实际金额 接诊医生  治疗检查费分配金额\n",
      "0    1.0  孙德俊 2021-11-13  白内障手术后眼睛反复疼痛   36.0   徐蔚        3.6\n",
      "1    2.0  陈亦尧 2021-11-13            配药   86.0   徐蔚        8.6\n",
      "2    3.0  张皓羽 2021-11-20        离焦软镜复查  845.0  徐海玥       84.5\n",
      "3    4.0  陈亦尧 2021-11-20            随访  108.0  徐海玥       10.8\n",
      "4    5.0  孙德俊 2021-11-20         白内障配药   50.0  徐海玥        5.0\n",
      "5    6.0   叶文 2021-11-27            取片   76.0   徐蔚        7.6\n",
      "6    7.0  孙德俊 2021-11-27       复查（白内障）  114.0   徐蔚       11.4\n",
      "7    8.0   康妍 2021-11-27      复查（屈光不正）  118.0   徐蔚       11.8\n",
      "8    9.0  韩逸恒 2021-11-20         OK镜配镜  146.0   徐蔚       14.6\n",
      "9   10.0  陈润泽 2021-11-13    OK镜配镜（未成功）   53.0   徐蔚        5.3\n",
      "10  11.0  杨啸天 2021-11-13    OK镜配镜（未成功）   48.0   徐蔚        4.8\n",
      "11  12.0  朱铭雷 2021-11-27         OK镜配镜   88.0   徐蔚        8.8\n",
      "12  13.0  张涵雅 2021-11-27         OK镜配镜   62.0   徐蔚        6.2\n",
      "13   NaN  NaN        NaT           NaN    NaN  NaN        0.0\n",
      "14   NaN  NaN        NaT           NaN    NaN  NaN        0.0\n",
      "15   NaN  NaN        NaT           NaN    NaN  NaN        0.0\n",
      "16   NaN  NaN        NaT           NaN    NaN  NaN        0.0\n",
      "17   NaN  NaN        NaT           NaN    NaN  NaN        0.0\n",
      "18   NaN  NaN        NaT           NaN    NaN  NaN        0.0\n",
      "19   NaN  NaN        NaT           NaN    NaN  NaN        0.0\n",
      "20   NaN  NaN        NaT           NaN    NaN  NaN        0.0\n",
      "21   NaN  NaN        NaT           NaN    NaN  NaN        0.0\n",
      "22   NaN  NaN        NaT           NaN    NaN  NaN        0.0\n",
      "23   NaN  NaN        NaT           NaN    NaN  NaN        0.0\n",
      "24   NaN  NaN        NaT           NaN    NaN  NaN        0.0\n",
      "25   NaN  NaN        NaT           NaN    NaN  NaN        0.0\n",
      "26   NaN  NaN        NaT           NaN    NaN  NaN        0.0\n",
      "27   NaN  NaN        NaT           NaN    NaN  NaN        0.0\n",
      "28   NaN  NaN        NaT           NaN    NaN  NaN        0.0\n",
      "29   NaN  NaN        NaT           NaN    NaN  NaN        0.0\n",
      "30   NaN  NaN        NaT           NaN    NaN  NaN        0.0\n",
      "31   NaN  NaN        NaT           NaN    NaN  NaN        0.0\n",
      "32   NaN  NaN        NaT           NaN    NaN  NaN        0.0\n",
      "33   NaN  NaN        NaT           NaN    NaN  NaN        0.0\n",
      "34   NaN  NaN        NaT           NaN    NaN  NaN        0.0\n",
      "35   NaN  NaN        NaT           NaN    NaN  NaN        0.0\n",
      "36   NaN  NaN        NaT           NaN    NaN  NaN        0.0\n",
      "37   NaN  NaN        NaT           NaN    NaN  NaN        0.0\n",
      "38   NaN  NaN        NaT           NaN    NaN  NaN        0.0\n",
      "39   NaN  NaN        NaT           NaN    NaN  NaN        0.0\n",
      "40   NaN  NaN        NaT           NaN    NaN  NaN        0.0\n",
      "41   NaN  NaN        NaT           NaN    NaN  NaN        0.0\n",
      "42   NaN  NaN        NaT           NaN    NaN  NaN        0.0\n",
      "43   NaN  NaN        NaT           NaN    NaN  NaN        0.0\n",
      "44   NaN  NaN        NaT           NaN    NaN  NaN        0.0\n",
      "45   NaN  NaN        NaT           NaN    NaN  NaN        0.0\n",
      "46   NaN  NaN        NaT           NaN    NaN  NaN        0.0\n",
      "47   NaN  NaN        NaT           NaN    NaN  NaN        0.0\n"
     ]
    }
   ],
   "source": [
    "print(df['治疗检查'])"
   ]
  },
  {
   "cell_type": "code",
   "execution_count": 93,
   "id": "matched-montana",
   "metadata": {},
   "outputs": [
    {
     "name": "stdout",
     "output_type": "stream",
     "text": [
      "     序号   姓名     就诊时间          就诊病情   挂号费用 接诊医生  挂号费分配金额\n",
      "0   1.0  孙德俊  44513.0  白内障手术后眼睛反复疼痛   50.0   徐蔚       25\n",
      "1   2.0  陈润泽  44513.0          配ok镜  300.0   徐蔚      150\n",
      "2   3.0  张皓羽  44520.0        离焦软镜复查  100.0  徐海玥       50\n",
      "3   4.0  孙德俊  44520.0            配药   50.0  徐海玥       25\n",
      "4   5.0  韩逸恒  44520.0          配ok镜  300.0  徐海玥      150\n",
      "5   6.0  张涵雅  44527.0   配ok镜（阿尔法球面）  300.0   徐蔚      150\n",
      "6   7.0   康妍  44527.0      复查（屈光不正）  300.0   徐蔚      150\n",
      "7   NaN  NaN      NaN           NaN    NaN  NaN        0\n",
      "8   NaN  NaN      NaN           NaN    NaN  NaN        0\n",
      "9   NaN  NaN      NaN           NaN    NaN  NaN        0\n",
      "10  NaN  NaN      NaN           NaN    NaN  NaN        0\n",
      "11  NaN  NaN      NaN           NaN    NaN  NaN        0\n",
      "12  NaN  NaN      NaN           NaN    NaN  NaN        0\n",
      "13  NaN  NaN      NaN           NaN    NaN  NaN        0\n",
      "14  NaN  NaN      NaN           NaN    NaN  NaN        0\n",
      "15  NaN  NaN      NaN           NaN    NaN  NaN        0\n",
      "16  NaN  NaN      NaN           NaN    NaN  NaN        0\n",
      "17  NaN  NaN      NaN           NaN    NaN  NaN        0\n",
      "18  NaN  NaN      NaN           NaN    NaN  NaN        0\n",
      "19  NaN  NaN      NaN           NaN    NaN  NaN        0\n"
     ]
    }
   ],
   "source": [
    "print(df['挂号费'])"
   ]
  },
  {
   "cell_type": "markdown",
   "id": "clean-adult",
   "metadata": {},
   "source": [
    "Let's focus on 治疗检查 as it is easier to do"
   ]
  },
  {
   "cell_type": "code",
   "execution_count": 125,
   "id": "gothic-request",
   "metadata": {},
   "outputs": [
    {
     "name": "stdout",
     "output_type": "stream",
     "text": [
      "{'投资方分配金额': 915.0, '徐蔚': 82.7, '徐海玥': 100.3}\n"
     ]
    }
   ],
   "source": [
    "#lets grab the last two columns \n",
    "sumExam = pd.DataFrame(df['治疗检查'], columns= ['接诊医生','治疗检查费分配金额','实际金额'])\n",
    "\n",
    "sumTotal = 0.0\n",
    "\n",
    "fl = 10.0\n",
    "#print(sumExam['治疗检查费分配金额'])\n",
    "\n",
    "#dictionary to store all amounts of doctors\n",
    "doctor_dict = {'投资方分配金额': 0}\n",
    "\n",
    "# sum up doctors' amounts\n",
    "def addUpMoney(doctors, money):\n",
    "    for i in range(0,len(money)):\n",
    "        doctor_name = doctors[i]\n",
    "        amount = money[i]\n",
    "        if type(doctor_name) != type(fl): #the empty cells are of type float\n",
    "        #print(sumExam['治疗检查费分配金额'][i])\n",
    "            if doctor_name in doctor_dict:\n",
    "                doctor_dict[doctor_name] += amount\n",
    "            else:\n",
    "                doctor_dict.update({doctor_name: amount})\n",
    "                \n",
    "# sums up the actual amount\n",
    "def addUpAmount(doctors, totals, commission):\n",
    "    for i in range(0,len(doctors)):\n",
    "        doctor_name = doctors[i]\n",
    "        amount = totals[i]*commission\n",
    "        if type(doctor_name) != type(fl):\n",
    "            doctor_dict['投资方分配金额'] += amount\n",
    "            \n",
    "#type of 检查费 is float\n",
    "#lets use a dictionary to store doctor's salary\n",
    "addUpMoney(sumExam['接诊医生'], sumExam['治疗检查费分配金额'])\n",
    "addUpAmount(sumExam['接诊医生'], sumExam['实际金额'], 0.5)\n",
    "print(doctor_dict)\n",
    "    "
   ]
  },
  {
   "cell_type": "markdown",
   "id": "stopped-rainbow",
   "metadata": {},
   "source": [
    "Let's move onto 挂号费"
   ]
  },
  {
   "cell_type": "code",
   "execution_count": 126,
   "id": "regular-preservation",
   "metadata": {},
   "outputs": [
    {
     "name": "stdout",
     "output_type": "stream",
     "text": [
      "{'投资方分配金额': 1195.0, '徐蔚': 557.7, '徐海玥': 325.3}\n"
     ]
    }
   ],
   "source": [
    "sumRegister = pd.DataFrame(df['挂号费'], columns= ['接诊医生','挂号费分配金额','挂号费用'])\n",
    "\n",
    "#print(sumRegister)\n",
    "\n",
    "#lets use a dictionary to store doctor's salary\n",
    "addUpMoney(sumRegister['接诊医生'], sumRegister['挂号费分配金额'])\n",
    "addUpAmount(sumRegister['接诊医生'], sumRegister['挂号费用'], 0.2)\n",
    "#doctor_dict['投资方分配金额'] = doctor_dict['投资方分配金额']*0.2\n",
    "print(doctor_dict)"
   ]
  },
  {
   "cell_type": "markdown",
   "id": "mighty-process",
   "metadata": {},
   "source": [
    "finally lets tackle 配镜 "
   ]
  },
  {
   "cell_type": "code",
   "execution_count": 127,
   "id": "recreational-recipient",
   "metadata": {},
   "outputs": [
    {
     "name": "stdout",
     "output_type": "stream",
     "text": [
      "{'投资方分配金额': 11226.0, '徐蔚': 5286.05, '徐海玥': 677.3, '陆卫海': 2065.5, '陈可荣': 377.6, '李晶晶': 1088.0, '施佳伟': 918.0}\n"
     ]
    }
   ],
   "source": [
    "sumGlasses = pd.DataFrame(df['配镜'], columns= ['接诊医生','分配金额1','验光师','分配金额2','来源1','分配金额3','来源2','分配金额4','实际金额'])\n",
    "\n",
    "#lets add up the amounts for each doctor\n",
    "addUpMoney(sumGlasses['接诊医生'], sumGlasses['分配金额1'])\n",
    "addUpMoney(sumGlasses['验光师'], sumGlasses['分配金额2'])\n",
    "addUpMoney(sumGlasses['来源1'], sumGlasses['分配金额3'])\n",
    "addUpMoney(sumGlasses['来源2'], sumGlasses['分配金额4'])\n",
    "\n",
    "addUpAmount(sumGlasses['接诊医生'], sumGlasses['实际金额'], 0.2)\n",
    "#iterate through dictionary and change the precision of float to two decimal digits\n",
    "for key in doctor_dict:\n",
    "    doctor_dict[key] = float(\"{0:.2f}\".format(doctor_dict[key]))\n",
    "\n",
    "print(doctor_dict)"
   ]
  },
  {
   "cell_type": "code",
   "execution_count": null,
   "id": "limiting-westminster",
   "metadata": {},
   "outputs": [],
   "source": []
  }
 ],
 "metadata": {
  "kernelspec": {
   "display_name": "Python 3",
   "language": "python",
   "name": "python3"
  },
  "language_info": {
   "codemirror_mode": {
    "name": "ipython",
    "version": 3
   },
   "file_extension": ".py",
   "mimetype": "text/x-python",
   "name": "python",
   "nbconvert_exporter": "python",
   "pygments_lexer": "ipython3",
   "version": "3.9.6"
  }
 },
 "nbformat": 4,
 "nbformat_minor": 5
}
